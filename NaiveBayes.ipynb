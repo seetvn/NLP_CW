{
  "nbformat": 4,
  "nbformat_minor": 0,
  "metadata": {
    "colab": {
      "provenance": []
    },
    "kernelspec": {
      "name": "python3",
      "display_name": "Python 3"
    },
    "language_info": {
      "name": "python"
    }
  },
  "cells": [
    {
      "cell_type": "markdown",
      "source": [
        "Getting drive\n"
      ],
      "metadata": {
        "id": "2dHfcV4FygZl"
      }
    },
    {
      "cell_type": "code",
      "source": [
        "from google.colab import drive\n",
        "drive.mount('/content/drive')"
      ],
      "metadata": {
        "colab": {
          "base_uri": "https://localhost:8080/"
        },
        "id": "aWqKTL_zyaQD",
        "outputId": "5cba71ca-2d8f-4264-8ccc-aa58dd52ff93"
      },
      "execution_count": null,
      "outputs": [
        {
          "output_type": "stream",
          "name": "stdout",
          "text": [
            "Drive already mounted at /content/drive; to attempt to forcibly remount, call drive.mount(\"/content/drive\", force_remount=True).\n"
          ]
        }
      ]
    },
    {
      "cell_type": "code",
      "execution_count": null,
      "metadata": {
        "colab": {
          "base_uri": "https://localhost:8080/"
        },
        "id": "BBXAik-wyNFX",
        "outputId": "78f0b1c0-83c4-48dd-de99-b7a972f8dcb1"
      },
      "outputs": [
        {
          "output_type": "stream",
          "name": "stdout",
          "text": [
            "True\n"
          ]
        }
      ],
      "source": [
        "import os\n",
        "# ----- path variable ----------\n",
        "path = \"/content/drive/MyDrive/NLP_CW/data\"\n",
        "print(os.path.isdir(path))\n",
        "# ----- path variable ------"
      ]
    },
    {
      "cell_type": "markdown",
      "source": [
        "Putting data into CSV file into drive"
      ],
      "metadata": {
        "id": "EaTgMBuQzM9F"
      }
    },
    {
      "cell_type": "code",
      "source": [
        "import csv\n",
        "data_label = 1\n",
        "with open('reviews.csv', 'w', newline='', encoding='utf-8') as csvfile:\n",
        "    fieldnames = ['Data Label', 'Text']\n",
        "    writer = csv.DictWriter(csvfile, fieldnames=fieldnames)\n",
        "    writer.writeheader()\n",
        "    for folder_path in os.listdir(path):\n",
        "      current_folder_path = path +\"/\" + folder_path\n",
        "      print(f\"current folder_path is {current_folder_path}\")\n",
        "      for text_file in os.listdir(current_folder_path):\n",
        "          with open(os.path.join(current_folder_path, text_file)) as f:\n",
        "            s = f.read().replace(\"<br />\",\". \")\n",
        "            writer.writerow({'Data Label': data_label, 'Text': s})\n",
        "      data_label = 0"
      ],
      "metadata": {
        "colab": {
          "base_uri": "https://localhost:8080/"
        },
        "id": "4oNS1BJuy5Mm",
        "outputId": "e312030f-fa09-4773-a944-6d41ffcb98d7"
      },
      "execution_count": null,
      "outputs": [
        {
          "output_type": "stream",
          "name": "stdout",
          "text": [
            "current folder_path is /content/drive/MyDrive/NLP_CW/data/pos\n",
            "current folder_path is /content/drive/MyDrive/NLP_CW/data/neg\n"
          ]
        }
      ]
    },
    {
      "cell_type": "markdown",
      "source": [
        "Splitting data into train,dev,and test"
      ],
      "metadata": {
        "id": "xNtLil0Y1nRo"
      }
    },
    {
      "cell_type": "code",
      "source": [
        "import pandas as pd\n",
        "import numpy as np\n",
        "from sklearn.model_selection import train_test_split\n",
        "\n",
        "df_reviews = pd.read_csv('reviews.csv')\n",
        "\n",
        "# Initial shuffle - DataFrame\n",
        "df_reviews = df_reviews.sample(frac=1, random_state=1).reset_index(drop=True)\n",
        "\n",
        "# Group data\n",
        "grouped = df_reviews.groupby('Data Label')\n",
        "\n",
        "\n",
        "# Dictionary to store train, test, dev sets for each class\n",
        "class_sets = {label: {'train': None, 'test': None, 'dev': None} for label, _ in grouped}\n",
        "\n",
        "# Split each class into train, test, dev sets maintaining the ratio\n",
        "for label, group in grouped:\n",
        "   # Split 60-40 initially\n",
        "    train, test_dev = train_test_split(group, test_size=0.4, random_state=42)\n",
        "    # Split 50-50 from the remaining 40%\n",
        "    test, dev = train_test_split(test_dev, test_size=0.5, random_state=42)\n",
        "\n",
        "    class_sets[label]['train'] = train\n",
        "    class_sets[label]['test'] = test\n",
        "    class_sets[label]['dev'] = dev\n",
        "\n",
        "# Concatenate dataframes for each class to get final train, test, dev sets\n",
        "train_set = pd.concat([class_sets[label]['train'] for label in class_sets])\n",
        "dev_set = pd.concat([class_sets[label]['dev'] for label in class_sets])\n",
        "test_set = pd.concat([class_sets[label]['test'] for label in class_sets])\n",
        "\n",
        "# Shuffle\n",
        "train_set = train_set.sample(frac=1, random_state=42).reset_index(drop=True)\n",
        "dev_set = dev_set.sample(frac=1, random_state=42).reset_index(drop=True)\n",
        "test_set = test_set.sample(frac=1, random_state=42).reset_index(drop=True)\n",
        "\n",
        "\n",
        "\n",
        "\n",
        "\n"
      ],
      "metadata": {
        "id": "SE15olOBzU7n"
      },
      "execution_count": null,
      "outputs": []
    },
    {
      "cell_type": "markdown",
      "source": [
        "Chcking if data-frame was split equally\n"
      ],
      "metadata": {
        "id": "JUQbjdjD2lU6"
      }
    },
    {
      "cell_type": "code",
      "source": [
        "\n",
        "\n",
        "# Count the number of rows with a certain value in the 'column_name'\n",
        "count_specific_value = len(test_set[test_set['Data Label'] == 1])\n",
        "\n",
        "# Display the count\n",
        "print(f\"Number of rows with 'specific_value' in 'column_name': {count_specific_value}\")\n"
      ],
      "metadata": {
        "colab": {
          "base_uri": "https://localhost:8080/"
        },
        "id": "kodVMT1r1lyp",
        "outputId": "ffa9c1c1-bf92-48fc-f466-b675d46f4528"
      },
      "execution_count": null,
      "outputs": [
        {
          "output_type": "stream",
          "name": "stdout",
          "text": [
            "Number of rows with 'specific_value' in 'column_name': 400\n"
          ]
        }
      ]
    },
    {
      "cell_type": "code",
      "source": [
        "import string\n",
        "import nltk\n",
        "from nltk.corpus import stopwords\n",
        "from nltk.tokenize import word_tokenize\n",
        "from nltk.stem import WordNetLemmatizer\n",
        "from nltk.util import ngrams\n",
        "from nltk.corpus import wordnet\n",
        "from nltk import pos_tag\n",
        "from nltk.corpus import opinion_lexicon\n",
        "# nltk.download('stopwords')\n",
        "# nltk.download('punkt')\n",
        "# nltk.download('wordnet')\n",
        "# nltk.download('averaged_perceptron_tagger')\n",
        "# nltk.download('words')\n",
        "# nltk.download('opinion_lexicon')\n",
        "lemmatizer = WordNetLemmatizer()\n",
        "\n"
      ],
      "metadata": {
        "colab": {
          "base_uri": "https://localhost:8080/"
        },
        "id": "H3kf489_2zt5",
        "outputId": "7efd9f0c-e326-4490-f380-fb8591fc7c89"
      },
      "execution_count": null,
      "outputs": [
        {
          "output_type": "stream",
          "name": "stderr",
          "text": [
            "[nltk_data] Downloading package stopwords to /root/nltk_data...\n",
            "[nltk_data]   Unzipping corpora/stopwords.zip.\n",
            "[nltk_data] Downloading package punkt to /root/nltk_data...\n",
            "[nltk_data]   Unzipping tokenizers/punkt.zip.\n",
            "[nltk_data] Downloading package wordnet to /root/nltk_data...\n",
            "[nltk_data] Downloading package averaged_perceptron_tagger to\n",
            "[nltk_data]     /root/nltk_data...\n",
            "[nltk_data]   Unzipping taggers/averaged_perceptron_tagger.zip.\n",
            "[nltk_data] Downloading package words to /root/nltk_data...\n",
            "[nltk_data]   Unzipping corpora/words.zip.\n",
            "[nltk_data] Downloading package opinion_lexicon to /root/nltk_data...\n",
            "[nltk_data]   Unzipping corpora/opinion_lexicon.zip.\n"
          ]
        }
      ]
    },
    {
      "cell_type": "markdown",
      "source": [
        "Helper functions including lemmatizer"
      ],
      "metadata": {
        "id": "eS6XG55r36xp"
      }
    },
    {
      "cell_type": "code",
      "source": [
        "def concat_feature_list_into_list(my_list):\n",
        "  ans = []\n",
        "  for item in my_list:\n",
        "    ans.append(''.join(item))\n",
        "  return ans\n",
        "\n",
        "def get_ngrams(lemmatized_words, range_):\n",
        "  total_list = []\n",
        "  ans = []\n",
        "  for x in range(1,range_ + 1):\n",
        "    total_list += list(ngrams(lemmatized_words, x))\n",
        "  return total_list\n",
        "\n",
        "def lemmatize_text(text):\n",
        "  stop_words = set(stopwords.words('english'))\n",
        "  t = text.split('.')\n",
        "  text = []\n",
        "  lemmatized_words = []\n",
        "\n",
        "  for t_ in t:\n",
        "     text.append(''.join([char for char in t_ if char not in string.punctuation]))\n",
        "  # print(text)\n",
        "  # text = ''.join([char for char in text if char not in string.punctuation])\n",
        "  for sentence in text:\n",
        "    words = nltk.word_tokenize(sentence)\n",
        "    pos_tags = pos_tag(words)\n",
        "    ind = 0\n",
        "    for word, pos in pos_tags:\n",
        "      if (word.lower() not in stop_words) and (word == word.lower() or (word !=word.lower() and ind == 0)):\n",
        "          if pos.startswith('V'):  # Check if the word is a verb\n",
        "              lemma = lemmatizer.lemmatize(word, pos='v')  # Lemmatize verb\n",
        "          elif pos.startswith('N'):  # Check if the word is a noun\n",
        "              lemma = lemmatizer.lemmatize(word, pos='n')  # Lemmatize noun\n",
        "          elif pos.startswith('J'):  # Check if the word is an adjective\n",
        "              lemma = lemmatizer.lemmatize(word, pos='a')  # Lemmatize adjective\n",
        "          elif pos.startswith('R'):  # Check if the word is an adverb\n",
        "              lemma = lemmatizer.lemmatize(word, pos='r')  # Lemmatize adverb\n",
        "          elif pos.startswith('U'):\n",
        "            lemma = lemmatizer.lemmatize(word, pos='r')  # Lemmatize interjection\n",
        "          else:\n",
        "            lemma = lemmatizer.lemmatize(word)  # Default to lemmatizing as a noun\n",
        "          if lemma not in lemmatized_words:\n",
        "              lemmatized_words.append(lemma)\n",
        "      ind = 1\n",
        "\n",
        "  return lemmatized_words"
      ],
      "metadata": {
        "id": "yCTYBd_c30gZ"
      },
      "execution_count": null,
      "outputs": []
    },
    {
      "cell_type": "markdown",
      "source": [
        "Testing if looping through dataframe works\n"
      ],
      "metadata": {
        "id": "CoLxJhxs8yue"
      }
    },
    {
      "cell_type": "code",
      "source": [
        "for index, row in train_set[20:25].iterrows():\n",
        "  t = lemmatize_text(row[\"Text\"])\n",
        "  t = get_ngrams(t,2)\n",
        "  t = concat_feature_list_into_list(t)\n",
        "  t = ' '.join(t)\n",
        "  print(row[\"Data Label\"], t)"
      ],
      "metadata": {
        "colab": {
          "base_uri": "https://localhost:8080/"
        },
        "id": "x5aoxI-M46s5",
        "outputId": "c9f79431-4ca1-4250-9f5a-2b8dc52895fc"
      },
      "execution_count": null,
      "outputs": [
        {
          "output_type": "stream",
          "name": "stdout",
          "text": [
            "0 Yeah get and his milieu but at the same time feel be largely overrated more than a little disturbing Overrated because supposed realism he introduce mill crowd crumble architecture etc moot by absurd downright goofy way that character behave In pursuit of utilize many nonactors their deerintheheadlights stare painfully awkward line delivery give whole terribly offkilter inconsistent And frankly toothless misshapenlyfeatured people painful to look disturb me least casual prevalent homosexual content Not prudish or homophobic neither emphasis place upon homoerotic image situation contrary neorealism otherwise espouse so it come off gratuitous force One can almost hear him say stick cute naked boy in this scene seem try play up angle thumb nose critic other enjoy aspect himself regardless what audience might prefer The disjointedness 9 10 different story strike failing storyteller rather an He bore with each wrap them unconvincingly conviction Even final dialog film which some find pithy create work art when dream about much sweeter just make wonder why would bother if felt my opinion far bettercrafted It also full bizarrelooking succeed pacing direction strong storytelling whereas fails those element Yeahget getand andhis hismilieu milieubut butat atthe thesame sametime timefeel feelbe belargely largelyoverrated overratedmore morethan thana alittle littledisturbing disturbingOverrated Overratedbecause becausesupposed supposedrealism realismhe heintroduce introducemill millcrowd crowdcrumble crumblearchitecture architectureetc etcmoot mootby byabsurd absurddownright downrightgoofy goofyway waythat thatcharacter characterbehave behaveIn Inpursuit pursuitof ofutilize utilizemany manynonactors nonactorstheir theirdeerintheheadlights deerintheheadlightsstare starepainfully painfullyawkward awkwardline linedelivery deliverygive givewhole wholeterribly terriblyoffkilter offkilterinconsistent inconsistentAnd Andfrankly franklytoothless toothlessmisshapenlyfeatured misshapenlyfeaturedpeople peoplepainful painfulto tolook lookdisturb disturbme meleast leastcasual casualprevalent prevalenthomosexual homosexualcontent contentNot Notprudish prudishor orhomophobic homophobicneither neitheremphasis emphasisplace placeupon uponhomoerotic homoeroticimage imagesituation situationcontrary contraryneorealism neorealismotherwise otherwiseespouse espouseso soit itcome comeoff offgratuitous gratuitousforce forceOne Onecan canalmost almosthear hearhim himsay saystick stickcute cutenaked nakedboy boyin inthis thisscene sceneseem seemtry tryplay playup upangle anglethumb thumbnose nosecritic criticother otherenjoy enjoyaspect aspecthimself himselfregardless regardlesswhat whataudience audiencemight mightprefer preferThe Thedisjointedness disjointedness9 910 10different differentstory storystrike strikefailing failingstoryteller storytellerrather ratheran anHe Hebore borewith witheach eachwrap wrapthem themunconvincingly unconvincinglyconviction convictionEven Evenfinal finaldialog dialogfilm filmwhich whichsome somefind findpithy pithycreate creatework workart artwhen whendream dreamabout aboutmuch muchsweeter sweeterjust justmake makewonder wonderwhy whywould wouldbother botherif iffelt feltmy myopinion opinionfar farbettercrafted bettercraftedIt Italso alsofull fullbizarrelooking bizarrelookingsucceed succeedpacing pacingdirection directionstrong strongstorytelling storytellingwhereas whereasfails failsthose thoseelement\n",
            "1 Secret of the be perhaps a pretty campy alltime favorite mine The best and funny from who know for splatter anime sleazy hentaiecchi I wish he do more campiness like this My scene psychedelic sequence part where blow up his fail henchman party riot that cause one whenever my character appear Check out WARNINGThis not serious sophisticated fan Secretof ofthe thebe beperhaps perhapsa apretty prettycampy campyalltime alltimefavorite favoritemine mineThe Thebest bestand andfunny funnyfrom fromwho whoknow knowfor forsplatter splatteranime animesleazy sleazyhentaiecchi hentaiecchiI Iwish wishhe hedo domore morecampiness campinesslike likethis thisMy Myscene scenepsychedelic psychedelicsequence sequencepart partwhere whereblow blowup uphis hisfail failhenchman henchmanparty partyriot riotthat thatcause causeone onewhenever whenevermy mycharacter characterappear appearCheck Checkout outWARNINGThis WARNINGThisnot notserious serioussophisticated sophisticatedfan\n",
            "0 When rent this movie have very low expectation but when saw it realize that the be less a lot than what expect The actor bad doctor wife one of story so stupid could work for except murder not comedy laughable masterpiece stupidity title well choose thing they add after give 0 and half out 5 Whenrent rentthis thismovie moviehave havevery verylow lowexpectation expectationbut butwhen whensaw sawit itrealize realizethat thatthe thebe beless lessa alot lotthan thanwhat whatexpect expectThe Theactor actorbad baddoctor doctorwife wifeone oneof ofstory storyso sostupid stupidcould couldwork workfor forexcept exceptmurder murdernot notcomedy comedylaughable laughablemasterpiece masterpiecestupidity stupiditytitle titlewell wellchoose choosething thingthey theyadd addafter aftergive give0 0and andhalf halfout out5\n",
            "1 i think this movie be really great do an amazing job in it she play her character very well shes actress the also funny too joke couldnt stop laughing everyone should see ithink thinkthis thismovie moviebe bereally reallygreat greatdo doan anamazing amazingjob jobin init itshe sheplay playher hercharacter charactervery verywell wellshes shesactress actressthe thealso alsofunny funnytoo toojoke jokecouldnt couldntstop stoplaughing laughingeveryone everyoneshould shouldsee\n",
            "1 A new creative team emerge in 1950 when brilliant actor with the equallybrilliant director to make a series of western that help define genre for future Until time be mainly note an aw approach family orient comedy dramas and romance Not he wasnt already multitalented star One his best screen performance ever one anyone on celluloid sarcastic writer scandal rag He have even do before His portrayal gun shy yet expert shot film classic But most movie goer boyscout type Smith or Seldom there dark side any character play Anthony associate flick noir mode Raw catch eye So two gift men combine their resource produce some great Winchester 73 from but others almost effective Mann become successful result go direct what critic believe them all Stewart fabulously wealthy partnership because sign part royalty return fraction salary usually pay wise move indeed follow by many other then also first maybe tell story standpoint traveling Each owner tale it come together exciting showdown at end which hold surprise viewer Based center revenge ownership The year 1876 Custer 7th cavalry annihilate white want native land way life back This conflict lead confrontation between young show potential small group pin down canyon join civilian partner lifelong pal underrated couple try find themselves soiled dove kind heart Among horse soldier newcomer late whose cut short bullet Wyatt him head marshal fine later look like old In reality assistant just teeth lawman Lin win shooting contest take not long afterward outlaw henchman McAdam after both remainder An more sinister along evil personify who threaten steal member stellar cast pass through several hand during course each transfer intense involve gunrunner perfection Other swap intermingle scenario above All this plus action keep glue seat throughout entire As rate role Look familiar face uncredited include sheriff reliable Anew newcreative creativeteam teamemerge emergein in1950 1950when whenbrilliant brilliantactor actorwith withthe theequallybrilliant equallybrilliantdirector directorto tomake makea aseries seriesof ofwestern westernthat thathelp helpdefine definegenre genrefor forfuture futureUntil Untiltime timebe bemainly mainlynote notean anaw awapproach approachfamily familyorient orientcomedy comedydramas dramasand andromance romanceNot Nothe hewasnt wasntalready alreadymultitalented multitalentedstar starOne Onehis hisbest bestscreen screenperformance performanceever everone oneanyone anyoneon oncelluloid celluloidsarcastic sarcasticwriter writerscandal scandalrag ragHe Hehave haveeven evendo dobefore beforeHis Hisportrayal portrayalgun gunshy shyyet yetexpert expertshot shotfilm filmclassic classicBut Butmost mostmovie moviegoer goerboyscout boyscouttype typeSmith Smithor orSeldom Seldomthere theredark darkside sideany anycharacter characterplay playAnthony Anthonyassociate associateflick flicknoir noirmode modeRaw Rawcatch catcheye eyeSo Sotwo twogift giftmen mencombine combinetheir theirresource resourceproduce producesome somegreat greatWinchester Winchester73 73from frombut butothers othersalmost almosteffective effectiveMann Mannbecome becomesuccessful successfulresult resultgo godirect directwhat whatcritic criticbelieve believethem themall allStewart Stewartfabulously fabulouslywealthy wealthypartnership partnershipbecause becausesign signpart partroyalty royaltyreturn returnfraction fractionsalary salaryusually usuallypay paywise wisemove moveindeed indeedfollow followby bymany manyother otherthen thenalso alsofirst firstmaybe maybetell tellstory storystandpoint standpointtraveling travelingEach Eachowner ownertale taleit itcome cometogether togetherexciting excitingshowdown showdownat atend endwhich whichhold holdsurprise surpriseviewer viewerBased Basedcenter centerrevenge revengeownership ownershipThe Theyear year1876 1876Custer Custer7th 7thcavalry cavalryannihilate annihilatewhite whitewant wantnative nativeland landway waylife lifeback backThis Thisconflict conflictlead leadconfrontation confrontationbetween betweenyoung youngshow showpotential potentialsmall smallgroup grouppin pindown downcanyon canyonjoin joincivilian civilianpartner partnerlifelong lifelongpal palunderrated underratedcouple coupletry tryfind findthemselves themselvessoiled soileddove dovekind kindheart heartAmong Amonghorse horsesoldier soldiernewcomer newcomerlate latewhose whosecut cutshort shortbullet bulletWyatt Wyatthim himhead headmarshal marshalfine finelater laterlook looklike likeold oldIn Inreality realityassistant assistantjust justteeth teethlawman lawmanLin Linwin winshooting shootingcontest contesttake takenot notlong longafterward afterwardoutlaw outlawhenchman henchmanMcAdam McAdamafter afterboth bothremainder remainderAn Anmore moresinister sinisteralong alongevil evilpersonify personifywho whothreaten threatensteal stealmember memberstellar stellarcast castpass passthrough throughseveral severalhand handduring duringcourse courseeach eachtransfer transferintense intenseinvolve involvegunrunner gunrunnerperfection perfectionOther Otherswap swapintermingle interminglescenario scenarioabove aboveAll Allthis thisplus plusaction actionkeep keepglue glueseat seatthroughout throughoutentire entireAs Asrate raterole roleLook Lookfamiliar familiarface faceuncredited uncreditedinclude includesheriff sheriffreliable\n"
          ]
        }
      ]
    },
    {
      "cell_type": "markdown",
      "source": [
        "Helper function - to get label and features"
      ],
      "metadata": {
        "id": "bSAdUVOM-kYk"
      }
    },
    {
      "cell_type": "code",
      "source": [
        "def get_features_and_labels(data_frame):\n",
        "  labels, features = [] , []\n",
        "  for index, row in data_frame.iterrows():\n",
        "      t = lemmatize_text(row[\"Text\"])\n",
        "      t = get_ngrams(t,3)\n",
        "      t = concat_feature_list_into_list(t)\n",
        "      t = ' '.join(t)\n",
        "      features.append(t)\n",
        "      labels.append(row[\"Data Label\"])\n",
        "      # print(row[\"Data Label\"], t)\n",
        "  return features,labels\n",
        "\n"
      ],
      "metadata": {
        "id": "dc497hAs9E50"
      },
      "execution_count": null,
      "outputs": []
    },
    {
      "cell_type": "code",
      "source": [
        "text, labels = get_features_and_labels(train_set[20:25])\n",
        "\n",
        "for label, text in zip(labels,text):\n",
        "  print(label, text)"
      ],
      "metadata": {
        "colab": {
          "base_uri": "https://localhost:8080/"
        },
        "id": "uKcjFOFW99Qm",
        "outputId": "0ea66b36-ef2d-431e-ce00-df11a59792f5"
      },
      "execution_count": null,
      "outputs": [
        {
          "output_type": "stream",
          "name": "stdout",
          "text": [
            "0 Yeah get and his milieu but at the same time feel be largely overrated more than a little disturbing Overrated because supposed realism he introduce mill crowd crumble architecture etc moot by absurd downright goofy way that character behave In pursuit of utilize many nonactors their deerintheheadlights stare painfully awkward line delivery give whole terribly offkilter inconsistent And frankly toothless misshapenlyfeatured people painful to look disturb me least casual prevalent homosexual content Not prudish or homophobic neither emphasis place upon homoerotic image situation contrary neorealism otherwise espouse so it come off gratuitous force One can almost hear him say stick cute naked boy in this scene seem try play up angle thumb nose critic other enjoy aspect himself regardless what audience might prefer The disjointedness 9 10 different story strike failing storyteller rather an He bore with each wrap them unconvincingly conviction Even final dialog film which some find pithy create work art when dream about much sweeter just make wonder why would bother if felt my opinion far bettercrafted It also full bizarrelooking succeed pacing direction strong storytelling whereas fails those element Yeahget getand andhis hismilieu milieubut butat atthe thesame sametime timefeel feelbe belargely largelyoverrated overratedmore morethan thana alittle littledisturbing disturbingOverrated Overratedbecause becausesupposed supposedrealism realismhe heintroduce introducemill millcrowd crowdcrumble crumblearchitecture architectureetc etcmoot mootby byabsurd absurddownright downrightgoofy goofyway waythat thatcharacter characterbehave behaveIn Inpursuit pursuitof ofutilize utilizemany manynonactors nonactorstheir theirdeerintheheadlights deerintheheadlightsstare starepainfully painfullyawkward awkwardline linedelivery deliverygive givewhole wholeterribly terriblyoffkilter offkilterinconsistent inconsistentAnd Andfrankly franklytoothless toothlessmisshapenlyfeatured misshapenlyfeaturedpeople peoplepainful painfulto tolook lookdisturb disturbme meleast leastcasual casualprevalent prevalenthomosexual homosexualcontent contentNot Notprudish prudishor orhomophobic homophobicneither neitheremphasis emphasisplace placeupon uponhomoerotic homoeroticimage imagesituation situationcontrary contraryneorealism neorealismotherwise otherwiseespouse espouseso soit itcome comeoff offgratuitous gratuitousforce forceOne Onecan canalmost almosthear hearhim himsay saystick stickcute cutenaked nakedboy boyin inthis thisscene sceneseem seemtry tryplay playup upangle anglethumb thumbnose nosecritic criticother otherenjoy enjoyaspect aspecthimself himselfregardless regardlesswhat whataudience audiencemight mightprefer preferThe Thedisjointedness disjointedness9 910 10different differentstory storystrike strikefailing failingstoryteller storytellerrather ratheran anHe Hebore borewith witheach eachwrap wrapthem themunconvincingly unconvincinglyconviction convictionEven Evenfinal finaldialog dialogfilm filmwhich whichsome somefind findpithy pithycreate creatework workart artwhen whendream dreamabout aboutmuch muchsweeter sweeterjust justmake makewonder wonderwhy whywould wouldbother botherif iffelt feltmy myopinion opinionfar farbettercrafted bettercraftedIt Italso alsofull fullbizarrelooking bizarrelookingsucceed succeedpacing pacingdirection directionstrong strongstorytelling storytellingwhereas whereasfails failsthose thoseelement Yeahgetand getandhis andhismilieu hismilieubut milieubutat butatthe atthesame thesametime sametimefeel timefeelbe feelbelargely belargelyoverrated largelyoverratedmore overratedmorethan morethana thanalittle alittledisturbing littledisturbingOverrated disturbingOverratedbecause Overratedbecausesupposed becausesupposedrealism supposedrealismhe realismheintroduce heintroducemill introducemillcrowd millcrowdcrumble crowdcrumblearchitecture crumblearchitectureetc architectureetcmoot etcmootby mootbyabsurd byabsurddownright absurddownrightgoofy downrightgoofyway goofywaythat waythatcharacter thatcharacterbehave characterbehaveIn behaveInpursuit Inpursuitof pursuitofutilize ofutilizemany utilizemanynonactors manynonactorstheir nonactorstheirdeerintheheadlights theirdeerintheheadlightsstare deerintheheadlightsstarepainfully starepainfullyawkward painfullyawkwardline awkwardlinedelivery linedeliverygive deliverygivewhole givewholeterribly wholeterriblyoffkilter terriblyoffkilterinconsistent offkilterinconsistentAnd inconsistentAndfrankly Andfranklytoothless franklytoothlessmisshapenlyfeatured toothlessmisshapenlyfeaturedpeople misshapenlyfeaturedpeoplepainful peoplepainfulto painfultolook tolookdisturb lookdisturbme disturbmeleast meleastcasual leastcasualprevalent casualprevalenthomosexual prevalenthomosexualcontent homosexualcontentNot contentNotprudish Notprudishor prudishorhomophobic orhomophobicneither homophobicneitheremphasis neitheremphasisplace emphasisplaceupon placeuponhomoerotic uponhomoeroticimage homoeroticimagesituation imagesituationcontrary situationcontraryneorealism contraryneorealismotherwise neorealismotherwiseespouse otherwiseespouseso espousesoit soitcome itcomeoff comeoffgratuitous offgratuitousforce gratuitousforceOne forceOnecan Onecanalmost canalmosthear almosthearhim hearhimsay himsaystick saystickcute stickcutenaked cutenakedboy nakedboyin boyinthis inthisscene thissceneseem sceneseemtry seemtryplay tryplayup playupangle upanglethumb anglethumbnose thumbnosecritic nosecriticother criticotherenjoy otherenjoyaspect enjoyaspecthimself aspecthimselfregardless himselfregardlesswhat regardlesswhataudience whataudiencemight audiencemightprefer mightpreferThe preferThedisjointedness Thedisjointedness9 disjointedness910 910different 10differentstory differentstorystrike storystrikefailing strikefailingstoryteller failingstorytellerrather storytellerratheran ratheranHe anHebore Heborewith borewitheach witheachwrap eachwrapthem wrapthemunconvincingly themunconvincinglyconviction unconvincinglyconvictionEven convictionEvenfinal Evenfinaldialog finaldialogfilm dialogfilmwhich filmwhichsome whichsomefind somefindpithy findpithycreate pithycreatework createworkart workartwhen artwhendream whendreamabout dreamaboutmuch aboutmuchsweeter muchsweeterjust sweeterjustmake justmakewonder makewonderwhy wonderwhywould whywouldbother wouldbotherif botheriffelt iffeltmy feltmyopinion myopinionfar opinionfarbettercrafted farbettercraftedIt bettercraftedItalso Italsofull alsofullbizarrelooking fullbizarrelookingsucceed bizarrelookingsucceedpacing succeedpacingdirection pacingdirectionstrong directionstrongstorytelling strongstorytellingwhereas storytellingwhereasfails whereasfailsthose failsthoseelement\n",
            "1 Secret of the be perhaps a pretty campy alltime favorite mine The best and funny from who know for splatter anime sleazy hentaiecchi I wish he do more campiness like this My scene psychedelic sequence part where blow up his fail henchman party riot that cause one whenever my character appear Check out WARNINGThis not serious sophisticated fan Secretof ofthe thebe beperhaps perhapsa apretty prettycampy campyalltime alltimefavorite favoritemine mineThe Thebest bestand andfunny funnyfrom fromwho whoknow knowfor forsplatter splatteranime animesleazy sleazyhentaiecchi hentaiecchiI Iwish wishhe hedo domore morecampiness campinesslike likethis thisMy Myscene scenepsychedelic psychedelicsequence sequencepart partwhere whereblow blowup uphis hisfail failhenchman henchmanparty partyriot riotthat thatcause causeone onewhenever whenevermy mycharacter characterappear appearCheck Checkout outWARNINGThis WARNINGThisnot notserious serioussophisticated sophisticatedfan Secretofthe ofthebe thebeperhaps beperhapsa perhapsapretty aprettycampy prettycampyalltime campyalltimefavorite alltimefavoritemine favoritemineThe mineThebest Thebestand bestandfunny andfunnyfrom funnyfromwho fromwhoknow whoknowfor knowforsplatter forsplatteranime splatteranimesleazy animesleazyhentaiecchi sleazyhentaiecchiI hentaiecchiIwish Iwishhe wishhedo hedomore domorecampiness morecampinesslike campinesslikethis likethisMy thisMyscene Myscenepsychedelic scenepsychedelicsequence psychedelicsequencepart sequencepartwhere partwhereblow whereblowup blowuphis uphisfail hisfailhenchman failhenchmanparty henchmanpartyriot partyriotthat riotthatcause thatcauseone causeonewhenever onewhenevermy whenevermycharacter mycharacterappear characterappearCheck appearCheckout CheckoutWARNINGThis outWARNINGThisnot WARNINGThisnotserious notserioussophisticated serioussophisticatedfan\n",
            "0 When rent this movie have very low expectation but when saw it realize that the be less a lot than what expect The actor bad doctor wife one of story so stupid could work for except murder not comedy laughable masterpiece stupidity title well choose thing they add after give 0 and half out 5 Whenrent rentthis thismovie moviehave havevery verylow lowexpectation expectationbut butwhen whensaw sawit itrealize realizethat thatthe thebe beless lessa alot lotthan thanwhat whatexpect expectThe Theactor actorbad baddoctor doctorwife wifeone oneof ofstory storyso sostupid stupidcould couldwork workfor forexcept exceptmurder murdernot notcomedy comedylaughable laughablemasterpiece masterpiecestupidity stupiditytitle titlewell wellchoose choosething thingthey theyadd addafter aftergive give0 0and andhalf halfout out5 Whenrentthis rentthismovie thismoviehave moviehavevery haveverylow verylowexpectation lowexpectationbut expectationbutwhen butwhensaw whensawit sawitrealize itrealizethat realizethatthe thatthebe thebeless belessa lessalot alotthan lotthanwhat thanwhatexpect whatexpectThe expectTheactor Theactorbad actorbaddoctor baddoctorwife doctorwifeone wifeoneof oneofstory ofstoryso storysostupid sostupidcould stupidcouldwork couldworkfor workforexcept forexceptmurder exceptmurdernot murdernotcomedy notcomedylaughable comedylaughablemasterpiece laughablemasterpiecestupidity masterpiecestupiditytitle stupiditytitlewell titlewellchoose wellchoosething choosethingthey thingtheyadd theyaddafter addaftergive aftergive0 give0and 0andhalf andhalfout halfout5\n",
            "1 i think this movie be really great do an amazing job in it she play her character very well shes actress the also funny too joke couldnt stop laughing everyone should see ithink thinkthis thismovie moviebe bereally reallygreat greatdo doan anamazing amazingjob jobin init itshe sheplay playher hercharacter charactervery verywell wellshes shesactress actressthe thealso alsofunny funnytoo toojoke jokecouldnt couldntstop stoplaughing laughingeveryone everyoneshould shouldsee ithinkthis thinkthismovie thismoviebe moviebereally bereallygreat reallygreatdo greatdoan doanamazing anamazingjob amazingjobin jobinit initshe itsheplay sheplayher playhercharacter hercharactervery characterverywell verywellshes wellshesactress shesactressthe actressthealso thealsofunny alsofunnytoo funnytoojoke toojokecouldnt jokecouldntstop couldntstoplaughing stoplaughingeveryone laughingeveryoneshould everyoneshouldsee\n",
            "1 A new creative team emerge in 1950 when brilliant actor with the equallybrilliant director to make a series of western that help define genre for future Until time be mainly note an aw approach family orient comedy dramas and romance Not he wasnt already multitalented star One his best screen performance ever one anyone on celluloid sarcastic writer scandal rag He have even do before His portrayal gun shy yet expert shot film classic But most movie goer boyscout type Smith or Seldom there dark side any character play Anthony associate flick noir mode Raw catch eye So two gift men combine their resource produce some great Winchester 73 from but others almost effective Mann become successful result go direct what critic believe them all Stewart fabulously wealthy partnership because sign part royalty return fraction salary usually pay wise move indeed follow by many other then also first maybe tell story standpoint traveling Each owner tale it come together exciting showdown at end which hold surprise viewer Based center revenge ownership The year 1876 Custer 7th cavalry annihilate white want native land way life back This conflict lead confrontation between young show potential small group pin down canyon join civilian partner lifelong pal underrated couple try find themselves soiled dove kind heart Among horse soldier newcomer late whose cut short bullet Wyatt him head marshal fine later look like old In reality assistant just teeth lawman Lin win shooting contest take not long afterward outlaw henchman McAdam after both remainder An more sinister along evil personify who threaten steal member stellar cast pass through several hand during course each transfer intense involve gunrunner perfection Other swap intermingle scenario above All this plus action keep glue seat throughout entire As rate role Look familiar face uncredited include sheriff reliable Anew newcreative creativeteam teamemerge emergein in1950 1950when whenbrilliant brilliantactor actorwith withthe theequallybrilliant equallybrilliantdirector directorto tomake makea aseries seriesof ofwestern westernthat thathelp helpdefine definegenre genrefor forfuture futureUntil Untiltime timebe bemainly mainlynote notean anaw awapproach approachfamily familyorient orientcomedy comedydramas dramasand andromance romanceNot Nothe hewasnt wasntalready alreadymultitalented multitalentedstar starOne Onehis hisbest bestscreen screenperformance performanceever everone oneanyone anyoneon oncelluloid celluloidsarcastic sarcasticwriter writerscandal scandalrag ragHe Hehave haveeven evendo dobefore beforeHis Hisportrayal portrayalgun gunshy shyyet yetexpert expertshot shotfilm filmclassic classicBut Butmost mostmovie moviegoer goerboyscout boyscouttype typeSmith Smithor orSeldom Seldomthere theredark darkside sideany anycharacter characterplay playAnthony Anthonyassociate associateflick flicknoir noirmode modeRaw Rawcatch catcheye eyeSo Sotwo twogift giftmen mencombine combinetheir theirresource resourceproduce producesome somegreat greatWinchester Winchester73 73from frombut butothers othersalmost almosteffective effectiveMann Mannbecome becomesuccessful successfulresult resultgo godirect directwhat whatcritic criticbelieve believethem themall allStewart Stewartfabulously fabulouslywealthy wealthypartnership partnershipbecause becausesign signpart partroyalty royaltyreturn returnfraction fractionsalary salaryusually usuallypay paywise wisemove moveindeed indeedfollow followby bymany manyother otherthen thenalso alsofirst firstmaybe maybetell tellstory storystandpoint standpointtraveling travelingEach Eachowner ownertale taleit itcome cometogether togetherexciting excitingshowdown showdownat atend endwhich whichhold holdsurprise surpriseviewer viewerBased Basedcenter centerrevenge revengeownership ownershipThe Theyear year1876 1876Custer Custer7th 7thcavalry cavalryannihilate annihilatewhite whitewant wantnative nativeland landway waylife lifeback backThis Thisconflict conflictlead leadconfrontation confrontationbetween betweenyoung youngshow showpotential potentialsmall smallgroup grouppin pindown downcanyon canyonjoin joincivilian civilianpartner partnerlifelong lifelongpal palunderrated underratedcouple coupletry tryfind findthemselves themselvessoiled soileddove dovekind kindheart heartAmong Amonghorse horsesoldier soldiernewcomer newcomerlate latewhose whosecut cutshort shortbullet bulletWyatt Wyatthim himhead headmarshal marshalfine finelater laterlook looklike likeold oldIn Inreality realityassistant assistantjust justteeth teethlawman lawmanLin Linwin winshooting shootingcontest contesttake takenot notlong longafterward afterwardoutlaw outlawhenchman henchmanMcAdam McAdamafter afterboth bothremainder remainderAn Anmore moresinister sinisteralong alongevil evilpersonify personifywho whothreaten threatensteal stealmember memberstellar stellarcast castpass passthrough throughseveral severalhand handduring duringcourse courseeach eachtransfer transferintense intenseinvolve involvegunrunner gunrunnerperfection perfectionOther Otherswap swapintermingle interminglescenario scenarioabove aboveAll Allthis thisplus plusaction actionkeep keepglue glueseat seatthroughout throughoutentire entireAs Asrate raterole roleLook Lookfamiliar familiarface faceuncredited uncreditedinclude includesheriff sheriffreliable Anewcreative newcreativeteam creativeteamemerge teamemergein emergein1950 in1950when 1950whenbrilliant whenbrilliantactor brilliantactorwith actorwiththe withtheequallybrilliant theequallybrilliantdirector equallybrilliantdirectorto directortomake tomakea makeaseries aseriesof seriesofwestern ofwesternthat westernthathelp thathelpdefine helpdefinegenre definegenrefor genreforfuture forfutureUntil futureUntiltime Untiltimebe timebemainly bemainlynote mainlynotean noteanaw anawapproach awapproachfamily approachfamilyorient familyorientcomedy orientcomedydramas comedydramasand dramasandromance andromanceNot romanceNothe Nothewasnt hewasntalready wasntalreadymultitalented alreadymultitalentedstar multitalentedstarOne starOnehis Onehisbest hisbestscreen bestscreenperformance screenperformanceever performanceeverone everoneanyone oneanyoneon anyoneoncelluloid oncelluloidsarcastic celluloidsarcasticwriter sarcasticwriterscandal writerscandalrag scandalragHe ragHehave Hehaveeven haveevendo evendobefore dobeforeHis beforeHisportrayal Hisportrayalgun portrayalgunshy gunshyyet shyyetexpert yetexpertshot expertshotfilm shotfilmclassic filmclassicBut classicButmost Butmostmovie mostmoviegoer moviegoerboyscout goerboyscouttype boyscouttypeSmith typeSmithor SmithorSeldom orSeldomthere Seldomtheredark theredarkside darksideany sideanycharacter anycharacterplay characterplayAnthony playAnthonyassociate Anthonyassociateflick associateflicknoir flicknoirmode noirmodeRaw modeRawcatch Rawcatcheye catcheyeSo eyeSotwo Sotwogift twogiftmen giftmencombine mencombinetheir combinetheirresource theirresourceproduce resourceproducesome producesomegreat somegreatWinchester greatWinchester73 Winchester73from 73frombut frombutothers butothersalmost othersalmosteffective almosteffectiveMann effectiveMannbecome Mannbecomesuccessful becomesuccessfulresult successfulresultgo resultgodirect godirectwhat directwhatcritic whatcriticbelieve criticbelievethem believethemall themallStewart allStewartfabulously Stewartfabulouslywealthy fabulouslywealthypartnership wealthypartnershipbecause partnershipbecausesign becausesignpart signpartroyalty partroyaltyreturn royaltyreturnfraction returnfractionsalary fractionsalaryusually salaryusuallypay usuallypaywise paywisemove wisemoveindeed moveindeedfollow indeedfollowby followbymany bymanyother manyotherthen otherthenalso thenalsofirst alsofirstmaybe firstmaybetell maybetellstory tellstorystandpoint storystandpointtraveling standpointtravelingEach travelingEachowner Eachownertale ownertaleit taleitcome itcometogether cometogetherexciting togetherexcitingshowdown excitingshowdownat showdownatend atendwhich endwhichhold whichholdsurprise holdsurpriseviewer surpriseviewerBased viewerBasedcenter Basedcenterrevenge centerrevengeownership revengeownershipThe ownershipTheyear Theyear1876 year1876Custer 1876Custer7th Custer7thcavalry 7thcavalryannihilate cavalryannihilatewhite annihilatewhitewant whitewantnative wantnativeland nativelandway landwaylife waylifeback lifebackThis backThisconflict Thisconflictlead conflictleadconfrontation leadconfrontationbetween confrontationbetweenyoung betweenyoungshow youngshowpotential showpotentialsmall potentialsmallgroup smallgrouppin grouppindown pindowncanyon downcanyonjoin canyonjoincivilian joincivilianpartner civilianpartnerlifelong partnerlifelongpal lifelongpalunderrated palunderratedcouple underratedcoupletry coupletryfind tryfindthemselves findthemselvessoiled themselvessoileddove soileddovekind dovekindheart kindheartAmong heartAmonghorse Amonghorsesoldier horsesoldiernewcomer soldiernewcomerlate newcomerlatewhose latewhosecut whosecutshort cutshortbullet shortbulletWyatt bulletWyatthim Wyatthimhead himheadmarshal headmarshalfine marshalfinelater finelaterlook laterlooklike looklikeold likeoldIn oldInreality Inrealityassistant realityassistantjust assistantjustteeth justteethlawman teethlawmanLin lawmanLinwin Linwinshooting winshootingcontest shootingcontesttake contesttakenot takenotlong notlongafterward longafterwardoutlaw afterwardoutlawhenchman outlawhenchmanMcAdam henchmanMcAdamafter McAdamafterboth afterbothremainder bothremainderAn remainderAnmore Anmoresinister moresinisteralong sinisteralongevil alongevilpersonify evilpersonifywho personifywhothreaten whothreatensteal threatenstealmember stealmemberstellar memberstellarcast stellarcastpass castpassthrough passthroughseveral throughseveralhand severalhandduring handduringcourse duringcourseeach courseeachtransfer eachtransferintense transferintenseinvolve intenseinvolvegunrunner involvegunrunnerperfection gunrunnerperfectionOther perfectionOtherswap Otherswapintermingle swapinterminglescenario interminglescenarioabove scenarioaboveAll aboveAllthis Allthisplus thisplusaction plusactionkeep actionkeepglue keepglueseat glueseatthroughout seatthroughoutentire throughoutentireAs entireAsrate Asraterole rateroleLook roleLookfamiliar Lookfamiliarface familiarfaceuncredited faceuncreditedinclude uncreditedincludesheriff includesheriffreliable\n"
          ]
        }
      ]
    },
    {
      "cell_type": "code",
      "source": [
        "training_text, training_labels = get_features_and_labels(train_set)\n"
      ],
      "metadata": {
        "id": "xLlM1Haq-qE0"
      },
      "execution_count": null,
      "outputs": []
    },
    {
      "cell_type": "markdown",
      "source": [
        "Don't RUN  below since feature sets were generated by changing the helper functions."
      ],
      "metadata": {
        "id": "tNqs55prhNVd"
      }
    },
    {
      "cell_type": "code",
      "source": [
        "training_text_0_0, training_labels_0_0 = get_features_and_labels(train_set)"
      ],
      "metadata": {
        "id": "zh4xTcPdfYNU"
      },
      "execution_count": null,
      "outputs": []
    },
    {
      "cell_type": "code",
      "source": [
        "training_text_0_1, training_labels_0_1 = get_features_and_labels(train_set)"
      ],
      "metadata": {
        "id": "1cNTCoK_hTBf"
      },
      "execution_count": null,
      "outputs": []
    },
    {
      "cell_type": "code",
      "source": [
        "training_text_1_0, training_labels_1_0 = get_features_and_labels(train_set)"
      ],
      "metadata": {
        "id": "UOhlU0rTjlc7"
      },
      "execution_count": null,
      "outputs": []
    },
    {
      "cell_type": "code",
      "source": [
        "print(len(training_text))\n"
      ],
      "metadata": {
        "colab": {
          "base_uri": "https://localhost:8080/"
        },
        "id": "vQLaUA_iBIbC",
        "outputId": "41eaba29-8081-469d-8f75-518da5dcb6bb"
      },
      "execution_count": null,
      "outputs": [
        {
          "output_type": "stream",
          "name": "stdout",
          "text": [
            "2400\n"
          ]
        }
      ]
    },
    {
      "cell_type": "markdown",
      "source": [
        "Import Built-in NB"
      ],
      "metadata": {
        "id": "X4VA96mPBWWx"
      }
    },
    {
      "cell_type": "code",
      "source": [
        "from sklearn.naive_bayes import GaussianNB\n",
        "from sklearn.feature_extraction.text import TfidfVectorizer\n",
        "from sklearn.feature_extraction.text import TfidfTransformer\n",
        "from sklearn.metrics import classification_report"
      ],
      "metadata": {
        "id": "u3UDbVkWBVWJ"
      },
      "execution_count": null,
      "outputs": []
    },
    {
      "cell_type": "code",
      "source": [
        "test_text, test_labels = get_features_and_labels(test_set)\n",
        "dev_text, dev_labels = get_features_and_labels(dev_set)"
      ],
      "metadata": {
        "id": "Vzn4omzPB1vp"
      },
      "execution_count": null,
      "outputs": []
    },
    {
      "cell_type": "code",
      "source": [
        "dev_text_0_0, dev_labels_0_0 =  get_features_and_labels(dev_set)\n",
        "test_text_0_0, test_labels_0_0= get_features_and_labels(test_set)"
      ],
      "metadata": {
        "id": "C3Kmlbe2hAUX"
      },
      "execution_count": null,
      "outputs": []
    },
    {
      "cell_type": "code",
      "source": [
        "dev_text_0_1, dev_labels_0_1 =  get_features_and_labels(dev_set)\n",
        "test_text_0_1, test_labels_0_1= get_features_and_labels(test_set)"
      ],
      "metadata": {
        "id": "ijdlXwETiDfp"
      },
      "execution_count": null,
      "outputs": []
    },
    {
      "cell_type": "code",
      "source": [
        "dev_text_1_0, dev_labels_1_0 =  get_features_and_labels(dev_set)\n",
        "test_text_1_0, test_labels_1_0 = get_features_and_labels(test_set)"
      ],
      "metadata": {
        "id": "iBM_8vcdkMx-"
      },
      "execution_count": null,
      "outputs": []
    },
    {
      "cell_type": "markdown",
      "source": [
        "\n",
        "\n",
        "```\n",
        "# This is formatted as code\n",
        "```\n",
        "\n",
        "CUSTOM-TFIDF : really slow, better to use built-in TFIDF"
      ],
      "metadata": {
        "id": "vjeOfogmI2fT"
      }
    },
    {
      "cell_type": "code",
      "source": [
        "from TFIDF import TFIDF\n",
        "\n",
        "tfidf = TFIDF()\n"
      ],
      "metadata": {
        "id": "BPEPInE9I1oj"
      },
      "execution_count": null,
      "outputs": []
    },
    {
      "cell_type": "code",
      "source": [
        "tfidf.fit(training_text)\n",
        "tfidf_train = tfidf.return_tf_idf_values()\n",
        "tfidf.fit(dev_text)\n",
        "tfidf_test = tfidf.return_tf_idf_values()"
      ],
      "metadata": {
        "id": "uBA9orx2Jjmm"
      },
      "execution_count": null,
      "outputs": []
    },
    {
      "cell_type": "markdown",
      "source": [
        "Real TFIDF"
      ],
      "metadata": {
        "id": "Am-EvBmhJDjs"
      }
    },
    {
      "cell_type": "code",
      "source": [
        "tfidf = TfidfVectorizer(min_df = 20).fit(training_text)\n",
        "tfidf_train = tfidf.transform(training_text).toarray()\n",
        "tfidf_test = tfidf.transform(dev_text).toarray()"
      ],
      "metadata": {
        "id": "7hI28IMzHhIW"
      },
      "execution_count": null,
      "outputs": []
    },
    {
      "cell_type": "code",
      "source": [
        "tfidf_0_0 = TfidfVectorizer(min_df = 20).fit(training_text_0_0)\n",
        "tfidf_train_0_0 = tfidf_0_0.transform(training_text_0_0).toarray()\n",
        "tfidf_test_0_0 = tfidf_0_0.transform(dev_text_0_0).toarray()"
      ],
      "metadata": {
        "id": "mKvqSA_Gkxjr"
      },
      "execution_count": null,
      "outputs": []
    },
    {
      "cell_type": "code",
      "source": [
        "tfidf_0_1 = TfidfVectorizer(min_df = 20).fit(training_text_0_1)\n",
        "tfidf_train_0_1 = tfidf_0_1.transform(training_text_0_1).toarray()\n",
        "tfidf_test_0_1 = tfidf_0_1.transform(dev_text_0_1).toarray()"
      ],
      "metadata": {
        "id": "oakz89qNlATd"
      },
      "execution_count": null,
      "outputs": []
    },
    {
      "cell_type": "code",
      "source": [
        "tfidf_1_0 = TfidfVectorizer(min_df = 20).fit(training_text_1_0)\n",
        "tfidf_train_1_0 = tfidf_1_0.transform(training_text_1_0).toarray()\n",
        "tfidf_test_1_0 = tfidf_1_0.transform(dev_text_1_0).toarray()"
      ],
      "metadata": {
        "id": "Xy9pbFFVlBPD"
      },
      "execution_count": null,
      "outputs": []
    },
    {
      "cell_type": "markdown",
      "source": [
        "Built in *Gaussian* Naive Bayes"
      ],
      "metadata": {
        "id": "y6OMQoZlHynV"
      }
    },
    {
      "cell_type": "code",
      "source": [
        "from sklearn.naive_bayes import GaussianNB\n",
        "from sklearn.metrics import classification_report\n",
        "NB = GaussianNB()\n",
        "NB.fit(tfidf_train,training_labels)\n",
        "predicted_NB = NB.predict(tfidf_test)\n",
        "print(classification_report(test_labels, predicted_NB))"
      ],
      "metadata": {
        "colab": {
          "base_uri": "https://localhost:8080/"
        },
        "id": "NP9-WCBjBdA4",
        "outputId": "f6b8a8e8-f508-4147-bf75-b230a2458627"
      },
      "execution_count": null,
      "outputs": [
        {
          "output_type": "stream",
          "name": "stdout",
          "text": [
            "              precision    recall  f1-score   support\n",
            "\n",
            "           0       0.81      0.78      0.79       400\n",
            "           1       0.79      0.81      0.80       400\n",
            "\n",
            "    accuracy                           0.80       800\n",
            "   macro avg       0.80      0.80      0.80       800\n",
            "weighted avg       0.80      0.80      0.80       800\n",
            "\n"
          ]
        }
      ]
    },
    {
      "cell_type": "markdown",
      "source": [
        "Custom NaiveBayes"
      ],
      "metadata": {
        "id": "nm--QgI0KSG8"
      }
    },
    {
      "cell_type": "code",
      "source": [
        "from NB import Classifier\n",
        "NBClassifier = Classifier()\n",
        "NBClassifier.train(tfidf_train,training_labels)\n",
        "predicted_custom_NB = NBClassifier.predict(tfidf_test)\n",
        "print(classification_report(test_labels, predicted_custom_NB))\n"
      ],
      "metadata": {
        "colab": {
          "base_uri": "https://localhost:8080/",
          "height": 383
        },
        "id": "b1llbgqNGfsO",
        "outputId": "df22cf31-5587-4369-cb0a-6f37f5f501da"
      },
      "execution_count": null,
      "outputs": [
        {
          "output_type": "error",
          "ename": "ModuleNotFoundError",
          "evalue": "ignored",
          "traceback": [
            "\u001b[0;31m---------------------------------------------------------------------------\u001b[0m",
            "\u001b[0;31mModuleNotFoundError\u001b[0m                       Traceback (most recent call last)",
            "\u001b[0;32m<ipython-input-64-f55f25781ae4>\u001b[0m in \u001b[0;36m<cell line: 1>\u001b[0;34m()\u001b[0m\n\u001b[0;32m----> 1\u001b[0;31m \u001b[0;32mfrom\u001b[0m \u001b[0mNB\u001b[0m \u001b[0;32mimport\u001b[0m \u001b[0mClassifier\u001b[0m\u001b[0;34m\u001b[0m\u001b[0;34m\u001b[0m\u001b[0m\n\u001b[0m\u001b[1;32m      2\u001b[0m \u001b[0mNBClassifier\u001b[0m \u001b[0;34m=\u001b[0m \u001b[0mClassifier\u001b[0m\u001b[0;34m(\u001b[0m\u001b[0;34m)\u001b[0m\u001b[0;34m\u001b[0m\u001b[0;34m\u001b[0m\u001b[0m\n\u001b[1;32m      3\u001b[0m \u001b[0mNBClassifier\u001b[0m\u001b[0;34m.\u001b[0m\u001b[0mtrain\u001b[0m\u001b[0;34m(\u001b[0m\u001b[0mtfidf_train\u001b[0m\u001b[0;34m,\u001b[0m\u001b[0mtraining_labels\u001b[0m\u001b[0;34m)\u001b[0m\u001b[0;34m\u001b[0m\u001b[0;34m\u001b[0m\u001b[0m\n\u001b[1;32m      4\u001b[0m \u001b[0mpredicted_custom_NB\u001b[0m \u001b[0;34m=\u001b[0m \u001b[0mNBClassifier\u001b[0m\u001b[0;34m.\u001b[0m\u001b[0mpredict\u001b[0m\u001b[0;34m(\u001b[0m\u001b[0mtfidf_test\u001b[0m\u001b[0;34m)\u001b[0m\u001b[0;34m\u001b[0m\u001b[0;34m\u001b[0m\u001b[0m\n\u001b[1;32m      5\u001b[0m \u001b[0mprint\u001b[0m\u001b[0;34m(\u001b[0m\u001b[0mclassification_report\u001b[0m\u001b[0;34m(\u001b[0m\u001b[0mtest_labels\u001b[0m\u001b[0;34m,\u001b[0m \u001b[0mpredicted_custom_NB\u001b[0m\u001b[0;34m)\u001b[0m\u001b[0;34m)\u001b[0m\u001b[0;34m\u001b[0m\u001b[0;34m\u001b[0m\u001b[0m\n",
            "\u001b[0;31mModuleNotFoundError\u001b[0m: No module named 'NB'",
            "",
            "\u001b[0;31m---------------------------------------------------------------------------\u001b[0;32m\nNOTE: If your import is failing due to a missing package, you can\nmanually install dependencies using either !pip or !apt.\n\nTo view examples of installing some common dependencies, click the\n\"Open Examples\" button below.\n\u001b[0;31m---------------------------------------------------------------------------\u001b[0m\n"
          ],
          "errorDetails": {
            "actions": [
              {
                "action": "open_url",
                "actionText": "Open Examples",
                "url": "/notebooks/snippets/importing_libraries.ipynb"
              }
            ]
          }
        }
      ]
    },
    {
      "cell_type": "markdown",
      "source": [
        "Custom TF-IDF Vectorizer BELOW"
      ],
      "metadata": {
        "id": "OkmiznRMKq8L"
      }
    },
    {
      "cell_type": "code",
      "source": [],
      "metadata": {
        "id": "0Q7i4xvBKxWW"
      },
      "execution_count": null,
      "outputs": []
    },
    {
      "cell_type": "markdown",
      "source": [
        "SVM for classifcation- importing built-in SVM"
      ],
      "metadata": {
        "id": "6f569ttaQPWO"
      }
    },
    {
      "cell_type": "code",
      "source": [
        "from sklearn.svm import SVC\n",
        "from sklearn.metrics import accuracy_score\n"
      ],
      "metadata": {
        "id": "bevsrTNaOq43"
      },
      "execution_count": null,
      "outputs": []
    },
    {
      "cell_type": "code",
      "source": [
        "# best is rbf kernel\n",
        "# {'sigmoid', 'rbf', 'linear', 'precomputed', 'poly'}\n",
        "svm_classifier = SVC(kernel='rbf', gamma='scale', probability=True)\n",
        "svm_classifier.fit(tfidf_train, training_labels)\n",
        "\n",
        "# Predict on the test set\n",
        "predictions = svm_classifier.predict(tfidf_test)\n",
        "\n",
        "# Evaluate the model\n",
        "accuracy = accuracy_score(test_labels, predictions)\n",
        "print(f\"Accuracy: {accuracy}\")\n",
        "\n",
        "print(classification_report(dev_labels, predictions))\n"
      ],
      "metadata": {
        "colab": {
          "base_uri": "https://localhost:8080/"
        },
        "id": "xJ6g_et3QoNW",
        "outputId": "b9ae01b4-70a8-4944-d1d6-a09c32af2b9c"
      },
      "execution_count": null,
      "outputs": [
        {
          "output_type": "stream",
          "name": "stdout",
          "text": [
            "Accuracy: 0.84375\n",
            "              precision    recall  f1-score   support\n",
            "\n",
            "           0       0.85      0.83      0.84       400\n",
            "           1       0.83      0.86      0.85       400\n",
            "\n",
            "    accuracy                           0.84       800\n",
            "   macro avg       0.84      0.84      0.84       800\n",
            "weighted avg       0.84      0.84      0.84       800\n",
            "\n"
          ]
        }
      ]
    },
    {
      "cell_type": "code",
      "source": [
        "svm_classifier = SVC()\n",
        "svm_classifier.fit(tfidf_train, training_labels)\n",
        "\n",
        "# Predict on the test set\n",
        "predictions = svm_classifier.predict(tfidf_test)\n",
        "\n",
        "# Evaluate the model\n",
        "accuracy = accuracy_score(test_labels, predictions)\n",
        "print(f\"Accuracy: {accuracy}\")\n",
        "\n",
        "print(classification_report(dev_labels, predictions))"
      ],
      "metadata": {
        "colab": {
          "base_uri": "https://localhost:8080/"
        },
        "id": "w6uSGJes6CJ1",
        "outputId": "3fea9bc4-bac1-4bb3-f87e-b81e3567dc55"
      },
      "execution_count": null,
      "outputs": [
        {
          "output_type": "stream",
          "name": "stdout",
          "text": [
            "Accuracy: 0.84375\n",
            "              precision    recall  f1-score   support\n",
            "\n",
            "           0       0.85      0.83      0.84       400\n",
            "           1       0.83      0.86      0.85       400\n",
            "\n",
            "    accuracy                           0.84       800\n",
            "   macro avg       0.84      0.84      0.84       800\n",
            "weighted avg       0.84      0.84      0.84       800\n",
            "\n"
          ]
        }
      ]
    },
    {
      "cell_type": "code",
      "source": [
        "svm_classifier = SVC()\n",
        "svm_classifier.fit(tfidf_train_0_0, training_labels_0_0)\n",
        "\n",
        "# Predict on the test set\n",
        "predictions = svm_classifier.predict(tfidf_test_0_0)\n",
        "\n",
        "# Evaluate the model\n",
        "accuracy = accuracy_score(test_labels_0_0, predictions)\n",
        "print(f\"Accuracy: {accuracy}\")\n",
        "\n",
        "print(classification_report(test_labels_0_0, predictions))"
      ],
      "metadata": {
        "colab": {
          "base_uri": "https://localhost:8080/"
        },
        "id": "uJWIO_cuucpg",
        "outputId": "5d623d64-3776-431f-f8d2-e4e05d07429a"
      },
      "execution_count": null,
      "outputs": [
        {
          "output_type": "stream",
          "name": "stdout",
          "text": [
            "Accuracy: 0.82125\n",
            "              precision    recall  f1-score   support\n",
            "\n",
            "           0       0.83      0.81      0.82       400\n",
            "           1       0.81      0.83      0.82       400\n",
            "\n",
            "    accuracy                           0.82       800\n",
            "   macro avg       0.82      0.82      0.82       800\n",
            "weighted avg       0.82      0.82      0.82       800\n",
            "\n"
          ]
        }
      ]
    },
    {
      "cell_type": "code",
      "source": [
        "svm_classifier = SVC()\n",
        "svm_classifier.fit(tfidf_train_0_1, training_labels_0_1)\n",
        "\n",
        "# Predict on the test set\n",
        "predictions = svm_classifier.predict(tfidf_test_0_1)\n",
        "\n",
        "# Evaluate the model\n",
        "accuracy = accuracy_score(test_labels_0_1, predictions)\n",
        "print(f\"Accuracy: {accuracy}\")\n",
        "\n",
        "print(classification_report(test_labels_0_1, predictions))"
      ],
      "metadata": {
        "colab": {
          "base_uri": "https://localhost:8080/"
        },
        "id": "MM05gRs_wKwB",
        "outputId": "288adb85-e0b8-4f0d-e2b5-2d6873c1a922"
      },
      "execution_count": null,
      "outputs": [
        {
          "output_type": "stream",
          "name": "stdout",
          "text": [
            "Accuracy: 0.82125\n",
            "              precision    recall  f1-score   support\n",
            "\n",
            "           0       0.83      0.81      0.82       400\n",
            "           1       0.81      0.83      0.82       400\n",
            "\n",
            "    accuracy                           0.82       800\n",
            "   macro avg       0.82      0.82      0.82       800\n",
            "weighted avg       0.82      0.82      0.82       800\n",
            "\n"
          ]
        }
      ]
    },
    {
      "cell_type": "code",
      "source": [
        "svm_classifier = SVC()\n",
        "svm_classifier.fit(tfidf_train_1_0, training_labels_1_0)\n",
        "\n",
        "# Predict on the test set\n",
        "predictions = svm_classifier.predict(tfidf_test_1_0)\n",
        "\n",
        "# Evaluate the model\n",
        "accuracy = accuracy_score(test_labels_1_0, predictions)\n",
        "print(f\"Accuracy: {accuracy}\")\n",
        "\n",
        "print(classification_report(test_labels_1_0, predictions))"
      ],
      "metadata": {
        "colab": {
          "base_uri": "https://localhost:8080/"
        },
        "id": "KAbU4mEpwYm7",
        "outputId": "a363ef18-15f6-4666-c17a-85f8643145fe"
      },
      "execution_count": null,
      "outputs": [
        {
          "output_type": "stream",
          "name": "stdout",
          "text": [
            "Accuracy: 0.84375\n",
            "              precision    recall  f1-score   support\n",
            "\n",
            "           0       0.85      0.83      0.84       400\n",
            "           1       0.83      0.86      0.85       400\n",
            "\n",
            "    accuracy                           0.84       800\n",
            "   macro avg       0.84      0.84      0.84       800\n",
            "weighted avg       0.84      0.84      0.84       800\n",
            "\n"
          ]
        }
      ]
    },
    {
      "cell_type": "markdown",
      "source": [
        "Logistic Regression - importing built in"
      ],
      "metadata": {
        "id": "DHzGrlvkTb7u"
      }
    },
    {
      "cell_type": "code",
      "source": [
        "from sklearn.linear_model import LogisticRegression"
      ],
      "metadata": {
        "id": "UfTmo8dFTa8K"
      },
      "execution_count": null,
      "outputs": []
    },
    {
      "cell_type": "code",
      "source": [
        "# Example of adjusting parameters\n",
        "#  set c = 1, penalty = 'l2' maxiter = [250,500,1000]\n",
        "#  set c = [1,0.25,0.0.0625], penalty = 'l2' , maxiter = 1000\n",
        "#  set c = 1, penalty = ['l1','l2] ,maxiter = 1000\n",
        "logistic_classifier = LogisticRegression(C=1, penalty='l2', max_iter=1000)\n",
        "\n",
        "logistic_classifier.fit(tfidf_train, training_labels)\n",
        "\n",
        "# Predict on the test set\n",
        "predictions = logistic_classifier.predict(tfidf_test)\n",
        "\n",
        "# Evaluate the model\n",
        "accuracy = accuracy_score(dev_labels, predictions)\n",
        "print(f\"Accuracy: {accuracy}\")\n",
        "\n",
        "# Additional evaluation metrics\n",
        "print(classification_report(dev_labels, predictions))"
      ],
      "metadata": {
        "colab": {
          "base_uri": "https://localhost:8080/"
        },
        "id": "6NKCk0fLTjQY",
        "outputId": "86d18368-9253-4fe3-95b5-b00beb091e5c"
      },
      "execution_count": null,
      "outputs": [
        {
          "output_type": "stream",
          "name": "stdout",
          "text": [
            "Accuracy: 0.82125\n",
            "              precision    recall  f1-score   support\n",
            "\n",
            "           0       0.82      0.82      0.82       400\n",
            "           1       0.82      0.82      0.82       400\n",
            "\n",
            "    accuracy                           0.82       800\n",
            "   macro avg       0.82      0.82      0.82       800\n",
            "weighted avg       0.82      0.82      0.82       800\n",
            "\n"
          ]
        }
      ]
    },
    {
      "cell_type": "markdown",
      "source": [
        "SGD Classifier - built in"
      ],
      "metadata": {
        "id": "ITKnZt3jYGhR"
      }
    },
    {
      "cell_type": "code",
      "source": [
        "from sklearn.linear_model import SGDClassifier"
      ],
      "metadata": {
        "id": "vw-1iHsLYFRb"
      },
      "execution_count": null,
      "outputs": []
    },
    {
      "cell_type": "markdown",
      "source": [
        "Best- with stopwords excluded and interjections lemmatized"
      ],
      "metadata": {
        "id": "PjmdDmyXtnlk"
      }
    },
    {
      "cell_type": "code",
      "source": [
        "# loss = ['huber','hinge','log_loss'],alpha = 0.001,max_iter = 1000,ranom_state = 42)\n",
        "# loss = 'hinge', alpha = [0.001,0.0005,0.00025], max_iter = 1000, random_state = 42)\n",
        "# best is log_loss\n",
        "sgd_classifier = SGDClassifier(loss='log_loss', alpha=0.001, max_iter=1000, random_state=42)\n",
        "sgd_classifier.fit(tfidf_train, training_labels)\n",
        "\n",
        "# Predict on the test set\n",
        "predictions = sgd_classifier.predict(tfidf_test)\n",
        "\n",
        "# Evaluate the model\n",
        "accuracy = accuracy_score(dev_labels, predictions)\n",
        "print(f\"Accuracy: {accuracy}\")\n",
        "\n",
        "# Additional evaluation metrics\n",
        "print(classification_report(dev_labels, predictions))"
      ],
      "metadata": {
        "colab": {
          "base_uri": "https://localhost:8080/"
        },
        "id": "DlArWBXYYWvB",
        "outputId": "384f3f19-1d6d-4f0f-d0fe-0455067f7c25"
      },
      "execution_count": null,
      "outputs": [
        {
          "output_type": "stream",
          "name": "stdout",
          "text": [
            "Accuracy: 0.84125\n",
            "              precision    recall  f1-score   support\n",
            "\n",
            "           0       0.85      0.82      0.84       400\n",
            "           1       0.83      0.86      0.84       400\n",
            "\n",
            "    accuracy                           0.84       800\n",
            "   macro avg       0.84      0.84      0.84       800\n",
            "weighted avg       0.84      0.84      0.84       800\n",
            "\n"
          ]
        }
      ]
    },
    {
      "cell_type": "markdown",
      "source": [
        "Same as above, except arguments are using default values"
      ],
      "metadata": {
        "id": "tuKYoj1Tt2w0"
      }
    },
    {
      "cell_type": "code",
      "source": [
        "\n",
        "sgd_classifier = SGDClassifier()\n",
        "sgd_classifier.fit(tfidf_train, training_labels)\n",
        "\n",
        "# Predict on the test set\n",
        "predictions = sgd_classifier.predict(tfidf_test)\n",
        "\n",
        "# Evaluate the model\n",
        "accuracy = accuracy_score(dev_labels, predictions)\n",
        "print(f\"Accuracy: {accuracy}\")\n",
        "\n",
        "# Additional evaluation metrics\n",
        "print(classification_report(dev_labels, predictions))"
      ],
      "metadata": {
        "colab": {
          "base_uri": "https://localhost:8080/"
        },
        "id": "I2QnoPEi5RcK",
        "outputId": "48b9ce99-d81b-4cd5-b56e-15bc844ee71b"
      },
      "execution_count": null,
      "outputs": [
        {
          "output_type": "stream",
          "name": "stdout",
          "text": [
            "Accuracy: 0.81125\n",
            "              precision    recall  f1-score   support\n",
            "\n",
            "           0       0.81      0.82      0.81       400\n",
            "           1       0.82      0.80      0.81       400\n",
            "\n",
            "    accuracy                           0.81       800\n",
            "   macro avg       0.81      0.81      0.81       800\n",
            "weighted avg       0.81      0.81      0.81       800\n",
            "\n"
          ]
        }
      ]
    },
    {
      "cell_type": "markdown",
      "source": [
        "For feature set (0,0) - stopwords included, interjection not lemmatized\n"
      ],
      "metadata": {
        "id": "BlHqBRQJCWi4"
      }
    },
    {
      "cell_type": "code",
      "source": [
        "sgd_classifier = SGDClassifier()\n",
        "sgd_classifier.fit(tfidf_train_0_0, training_labels_0_0)\n",
        "\n",
        "# Predict on the test set\n",
        "predictions = sgd_classifier.predict(tfidf_test_0_0)\n",
        "\n",
        "# Evaluate the model\n",
        "accuracy = accuracy_score(dev_labels_0_0, predictions)\n",
        "print(f\"Accuracy: {accuracy}\")\n",
        "\n",
        "# Additional evaluation metrics\n",
        "print(classification_report(dev_labels_0_0, predictions))"
      ],
      "metadata": {
        "colab": {
          "base_uri": "https://localhost:8080/"
        },
        "id": "F79-wOqyzyea",
        "outputId": "df670d3b-f7c6-41b8-dc36-f5f954ee3616"
      },
      "execution_count": null,
      "outputs": [
        {
          "output_type": "stream",
          "name": "stdout",
          "text": [
            "Accuracy: 0.79125\n",
            "              precision    recall  f1-score   support\n",
            "\n",
            "           0       0.77      0.84      0.80       400\n",
            "           1       0.82      0.74      0.78       400\n",
            "\n",
            "    accuracy                           0.79       800\n",
            "   macro avg       0.79      0.79      0.79       800\n",
            "weighted avg       0.79      0.79      0.79       800\n",
            "\n"
          ]
        }
      ]
    },
    {
      "cell_type": "markdown",
      "source": [
        "For feature set (0,1) - stopwords included, interjection lemmatized"
      ],
      "metadata": {
        "id": "7eIRvAyQCfHz"
      }
    },
    {
      "cell_type": "code",
      "source": [
        "sgd_classifier = SGDClassifier()\n",
        "sgd_classifier.fit(tfidf_train_0_1, training_labels_0_1)\n",
        "\n",
        "# Predict on the test set\n",
        "predictions = sgd_classifier.predict(tfidf_test_0_1)\n",
        "\n",
        "# Evaluate the model\n",
        "accuracy = accuracy_score(dev_labels_0_1, predictions)\n",
        "print(f\"Accuracy: {accuracy}\")\n",
        "\n",
        "# Additional evaluation metrics\n",
        "print(classification_report(dev_labels_0_1, predictions))"
      ],
      "metadata": {
        "colab": {
          "base_uri": "https://localhost:8080/"
        },
        "id": "M-LLqfMq0jqZ",
        "outputId": "b0be8214-c8ee-4b43-fed0-b3958b11df55"
      },
      "execution_count": null,
      "outputs": [
        {
          "output_type": "stream",
          "name": "stdout",
          "text": [
            "Accuracy: 0.8025\n",
            "              precision    recall  f1-score   support\n",
            "\n",
            "           0       0.81      0.80      0.80       400\n",
            "           1       0.80      0.81      0.80       400\n",
            "\n",
            "    accuracy                           0.80       800\n",
            "   macro avg       0.80      0.80      0.80       800\n",
            "weighted avg       0.80      0.80      0.80       800\n",
            "\n"
          ]
        }
      ]
    },
    {
      "cell_type": "markdown",
      "source": [
        "For feature set (1,0) - stopwords excluded, interjection not lemmatized"
      ],
      "metadata": {
        "id": "kwqSoQ4BCi3E"
      }
    },
    {
      "cell_type": "code",
      "source": [
        "sgd_classifier = SGDClassifier()\n",
        "sgd_classifier.fit(tfidf_train_1_0, training_labels_1_0)\n",
        "\n",
        "# Predict on the test set\n",
        "predictions = sgd_classifier.predict(tfidf_test_1_0)\n",
        "\n",
        "# Evaluate the model\n",
        "accuracy = accuracy_score(dev_labels_1_0, predictions)\n",
        "print(f\"Accuracy: {accuracy}\")\n",
        "\n",
        "# Additional evaluation metrics\n",
        "print(classification_report(dev_labels_1_0, predictions))"
      ],
      "metadata": {
        "colab": {
          "base_uri": "https://localhost:8080/"
        },
        "id": "BR2jf5No1Em0",
        "outputId": "90f0299e-38a1-47d4-bd9f-418ed924a866"
      },
      "execution_count": null,
      "outputs": [
        {
          "output_type": "stream",
          "name": "stdout",
          "text": [
            "Accuracy: 0.81\n",
            "              precision    recall  f1-score   support\n",
            "\n",
            "           0       0.79      0.84      0.82       400\n",
            "           1       0.83      0.78      0.80       400\n",
            "\n",
            "    accuracy                           0.81       800\n",
            "   macro avg       0.81      0.81      0.81       800\n",
            "weighted avg       0.81      0.81      0.81       800\n",
            "\n"
          ]
        }
      ]
    },
    {
      "cell_type": "markdown",
      "source": [
        "Final SGD and SVM on test set"
      ],
      "metadata": {
        "id": "6U26TpUx1mud"
      }
    },
    {
      "cell_type": "code",
      "source": [
        "tfidf_test_final = tfidf.transform(test_text).toarray()\n",
        "\n",
        "svm_classifier = SVC(kernel='rbf', gamma='scale', probability=True)\n",
        "print(\"---SVM on test set with best feature set---\")\n",
        "# best set for SVM\n",
        "svm_classifier.fit(tfidf_train, training_labels)\n",
        "\n",
        "# Predict on the test set\n",
        "predictions = svm_classifier.predict(tfidf_test_final)\n",
        "\n",
        "# Evaluate the model\n",
        "accuracy = accuracy_score(test_labels, predictions)\n",
        "print(f\"Accuracy: {accuracy}\")\n",
        "\n",
        "print(classification_report(test_labels, predictions))\n",
        "\n",
        "\n"
      ],
      "metadata": {
        "colab": {
          "base_uri": "https://localhost:8080/"
        },
        "id": "yxaII_iY1qsl",
        "outputId": "6d15aac9-c59d-4740-e2b9-f4586385d1e0"
      },
      "execution_count": null,
      "outputs": [
        {
          "output_type": "stream",
          "name": "stdout",
          "text": [
            "---SVM on test set with best feature set---\n",
            "Accuracy: 0.86375\n",
            "              precision    recall  f1-score   support\n",
            "\n",
            "           0       0.90      0.82      0.86       400\n",
            "           1       0.83      0.91      0.87       400\n",
            "\n",
            "    accuracy                           0.86       800\n",
            "   macro avg       0.87      0.86      0.86       800\n",
            "weighted avg       0.87      0.86      0.86       800\n",
            "\n",
            "---SGD Classifier on test set with best feature set---\n",
            "Accuracy: 0.86125\n",
            "              precision    recall  f1-score   support\n",
            "\n",
            "           0       0.90      0.81      0.85       400\n",
            "           1       0.83      0.92      0.87       400\n",
            "\n",
            "    accuracy                           0.86       800\n",
            "   macro avg       0.87      0.86      0.86       800\n",
            "weighted avg       0.87      0.86      0.86       800\n",
            "\n"
          ]
        }
      ]
    },
    {
      "cell_type": "code",
      "source": [
        "sgd_classifier = SGDClassifier(loss='log_loss', alpha=0.001, max_iter=1000, random_state=42)\n",
        "print(\"---SGD Classifier on test set with best feature set---\")\n",
        "sgd_classifier.fit(tfidf_train, training_labels)\n",
        "\n",
        "# Predict on the test set\n",
        "predictions = sgd_classifier.predict(tfidf_test_final)\n",
        "\n",
        "# Evaluate the model\n",
        "accuracy = accuracy_score(test_labels, predictions)\n",
        "print(f\"Accuracy: {accuracy}\")\n",
        "\n",
        "# Additional evaluation metrics\n",
        "print(classification_report(test_labels, predictions))"
      ],
      "metadata": {
        "colab": {
          "base_uri": "https://localhost:8080/"
        },
        "id": "hUeUAU6473nF",
        "outputId": "3f7f60a4-535a-42f3-a5a2-4fcba8db119f"
      },
      "execution_count": null,
      "outputs": [
        {
          "output_type": "stream",
          "name": "stdout",
          "text": [
            "---SGD Classifier on test set with best feature set---\n",
            "Accuracy: 0.86125\n",
            "              precision    recall  f1-score   support\n",
            "\n",
            "           0       0.90      0.81      0.85       400\n",
            "           1       0.83      0.92      0.87       400\n",
            "\n",
            "    accuracy                           0.86       800\n",
            "   macro avg       0.87      0.86      0.86       800\n",
            "weighted avg       0.87      0.86      0.86       800\n",
            "\n"
          ]
        }
      ]
    }
  ]
}